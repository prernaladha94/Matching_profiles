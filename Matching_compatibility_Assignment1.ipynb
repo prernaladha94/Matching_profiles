{
 "cells": [
  {
   "cell_type": "markdown",
   "metadata": {},
   "source": [
    "## Assignment "
   ]
  },
  {
   "cell_type": "markdown",
   "metadata": {},
   "source": [
    "For a dating app there are 4 users (two male & two female), they answer the same 10 onboarding compatibility Qs while setting up their user profiles. These compatibility questions sample will be attached in this mail. Create a ML model using python & AI ML framework of your choice to analyse their matching probability. Also provide some examples of how this ML model can be integrated with the backend of a Flutter App."
   ]
  },
  {
   "cell_type": "markdown",
   "metadata": {},
   "source": [
    "#### Importing the required libraries"
   ]
  },
  {
   "cell_type": "code",
   "execution_count": 1,
   "metadata": {},
   "outputs": [],
   "source": [
    "import requests\n",
    "import pandas as pd\n",
    "import time\n",
    "import random\n",
    "import re\n",
    "import numpy as np\n",
    "import _pickle as pickle\n",
    "from tqdm import tqdm_notebook as tqdm\n",
    "from bs4 import BeautifulSoup as bs\n",
    "pd.set_option('display.max_colwidth', 500)\n",
    "import matplotlib.pyplot as plt\n",
    "import seaborn as sns\n",
    "from nltk.stem import WordNetLemmatizer\n",
    "from nltk import FreqDist\n",
    "from nltk.corpus import stopwords\n",
    "from sklearn.feature_extraction.text import TfidfVectorizer, CountVectorizer\n",
    "from sklearn.preprocessing import MinMaxScaler\n",
    "import matplotlib.pyplot as plt"
   ]
  },
  {
   "cell_type": "markdown",
   "metadata": {},
   "source": [
    "#### Scraping data using BeautifulSoup\n",
    "\n",
    "I have scraped data from the website - Fakepersongenerator to create 10 dating profiles for checking the usability of the ML algorith created. "
   ]
  },
  {
   "cell_type": "code",
   "execution_count": 2,
   "metadata": {},
   "outputs": [],
   "source": [
    "biolist = []\n",
    "page = requests.get(\"https://www.fakepersongenerator.com/user-biography-generator\")\n",
    "soup = bs(page.content)\n",
    "bios = soup.find('div', class_='row no-margin for-sign').find_all('p')\n",
    "biolist.extend([re.findall('\"([^\"]*)\"', i.text) for i in bios])"
   ]
  },
  {
   "cell_type": "markdown",
   "metadata": {},
   "source": [
    "#### Creating a dataframe from the bio list"
   ]
  },
  {
   "cell_type": "code",
   "execution_count": 3,
   "metadata": {},
   "outputs": [
    {
     "data": {
      "text/html": [
       "<div>\n",
       "<style scoped>\n",
       "    .dataframe tbody tr th:only-of-type {\n",
       "        vertical-align: middle;\n",
       "    }\n",
       "\n",
       "    .dataframe tbody tr th {\n",
       "        vertical-align: top;\n",
       "    }\n",
       "\n",
       "    .dataframe thead th {\n",
       "        text-align: right;\n",
       "    }\n",
       "</style>\n",
       "<table border=\"1\" class=\"dataframe\">\n",
       "  <thead>\n",
       "    <tr style=\"text-align: right;\">\n",
       "      <th></th>\n",
       "      <th>Bios</th>\n",
       "    </tr>\n",
       "  </thead>\n",
       "  <tbody>\n",
       "    <tr>\n",
       "      <th>0</th>\n",
       "      <td>Wannabe beer guru. Professional food scholar. Thinker. Bacon expert. Travel maven. Friendly social media aficionado. Internet buff.</td>\n",
       "    </tr>\n",
       "    <tr>\n",
       "      <th>1</th>\n",
       "      <td>Problem solver. Internet scholar. Travel geek. Unapologetic music evangelist.</td>\n",
       "    </tr>\n",
       "    <tr>\n",
       "      <th>2</th>\n",
       "      <td>Freelance gamer. Zombie trailblazer. Alcoholaholic. Hardcore social media guru.</td>\n",
       "    </tr>\n",
       "    <tr>\n",
       "      <th>3</th>\n",
       "      <td>Social media expert. Gamer. Unapologetic food fanatic. Freelance internet guru. Subtly charming explorer.</td>\n",
       "    </tr>\n",
       "    <tr>\n",
       "      <th>4</th>\n",
       "      <td>Total explorer. Wannabe travel lover. Devoted troublemaker. Food buff. Gamer. Future teen idol. Thinker. Web guru. Infuriatingly humble bacon practitioner.</td>\n",
       "    </tr>\n",
       "    <tr>\n",
       "      <th>5</th>\n",
       "      <td>Unapologetic music guru. Hipster-friendly social media geek. Amateur internet enthusiast. Zombie advocate.</td>\n",
       "    </tr>\n",
       "    <tr>\n",
       "      <th>6</th>\n",
       "      <td>Twitter geek. Professional problem solver. Zombie lover. Avid social media fan. Music scholar.</td>\n",
       "    </tr>\n",
       "    <tr>\n",
       "      <th>7</th>\n",
       "      <td>Travel maven. Hardcore alcohol scholar. Baconaholic. Lifelong tv advocate. Beer lover.</td>\n",
       "    </tr>\n",
       "    <tr>\n",
       "      <th>8</th>\n",
       "      <td>Food fan. Zombie lover. Subtly charming reader. Coffee junkie. Social media trailblazer.</td>\n",
       "    </tr>\n",
       "    <tr>\n",
       "      <th>9</th>\n",
       "      <td>Explorer. Tv maven. Certified social media fan. Hipster-friendly beer lover. Web scholar.</td>\n",
       "    </tr>\n",
       "  </tbody>\n",
       "</table>\n",
       "</div>"
      ],
      "text/plain": [
       "                                                                                                                                                          Bios\n",
       "0                          Wannabe beer guru. Professional food scholar. Thinker. Bacon expert. Travel maven. Friendly social media aficionado. Internet buff.\n",
       "1                                                                                Problem solver. Internet scholar. Travel geek. Unapologetic music evangelist.\n",
       "2                                                                              Freelance gamer. Zombie trailblazer. Alcoholaholic. Hardcore social media guru.\n",
       "3                                                    Social media expert. Gamer. Unapologetic food fanatic. Freelance internet guru. Subtly charming explorer.\n",
       "4  Total explorer. Wannabe travel lover. Devoted troublemaker. Food buff. Gamer. Future teen idol. Thinker. Web guru. Infuriatingly humble bacon practitioner.\n",
       "5                                                   Unapologetic music guru. Hipster-friendly social media geek. Amateur internet enthusiast. Zombie advocate.\n",
       "6                                                               Twitter geek. Professional problem solver. Zombie lover. Avid social media fan. Music scholar.\n",
       "7                                                                       Travel maven. Hardcore alcohol scholar. Baconaholic. Lifelong tv advocate. Beer lover.\n",
       "8                                                                     Food fan. Zombie lover. Subtly charming reader. Coffee junkie. Social media trailblazer.\n",
       "9                                                                    Explorer. Tv maven. Certified social media fan. Hipster-friendly beer lover. Web scholar."
      ]
     },
     "execution_count": 3,
     "metadata": {},
     "output_type": "execute_result"
    }
   ],
   "source": [
    "data = pd.DataFrame(biolist, columns=['Bios'])\n",
    "data.head(10)"
   ]
  },
  {
   "cell_type": "code",
   "execution_count": 4,
   "metadata": {},
   "outputs": [
    {
     "data": {
      "text/plain": [
       "(15, 1)"
      ]
     },
     "execution_count": 4,
     "metadata": {},
     "output_type": "execute_result"
    }
   ],
   "source": [
    "data.shape"
   ]
  },
  {
   "cell_type": "code",
   "execution_count": 5,
   "metadata": {},
   "outputs": [],
   "source": [
    "# Adding attributes\n",
    "qs = ['TV','Movies','Music','Sports','Books','Religion','Travel']\n",
    "\n",
    "# Creating a df of the categories\n",
    "topic_df = pd.DataFrame(columns=qs)\n",
    "\n",
    "# Filling in Data\n",
    "for i in topic_df.columns:\n",
    "    \n",
    "    # Range of numbers to represent different labels in each category\n",
    "    topic_df[i] = np.random.randint(0,10, data.shape[0])\n",
    "\n",
    "# Joining df\n",
    "final_data = data.join(topic_df)\n",
    "\n",
    "with open(\"profiles.pkl\", \"wb\") as fp:\n",
    "    pickle.dump(final_data, fp)"
   ]
  },
  {
   "cell_type": "code",
   "execution_count": 6,
   "metadata": {},
   "outputs": [
    {
     "data": {
      "text/html": [
       "<div>\n",
       "<style scoped>\n",
       "    .dataframe tbody tr th:only-of-type {\n",
       "        vertical-align: middle;\n",
       "    }\n",
       "\n",
       "    .dataframe tbody tr th {\n",
       "        vertical-align: top;\n",
       "    }\n",
       "\n",
       "    .dataframe thead th {\n",
       "        text-align: right;\n",
       "    }\n",
       "</style>\n",
       "<table border=\"1\" class=\"dataframe\">\n",
       "  <thead>\n",
       "    <tr style=\"text-align: right;\">\n",
       "      <th></th>\n",
       "      <th>Bios</th>\n",
       "      <th>TV</th>\n",
       "      <th>Movies</th>\n",
       "      <th>Music</th>\n",
       "      <th>Sports</th>\n",
       "      <th>Books</th>\n",
       "      <th>Religion</th>\n",
       "      <th>Travel</th>\n",
       "      <th>gender</th>\n",
       "    </tr>\n",
       "  </thead>\n",
       "  <tbody>\n",
       "    <tr>\n",
       "      <th>0</th>\n",
       "      <td>Wannabe beer guru. Professional food scholar. Thinker. Bacon expert. Travel maven. Friendly social media aficionado. Internet buff.</td>\n",
       "      <td>6</td>\n",
       "      <td>0</td>\n",
       "      <td>0</td>\n",
       "      <td>9</td>\n",
       "      <td>5</td>\n",
       "      <td>1</td>\n",
       "      <td>2</td>\n",
       "      <td>0</td>\n",
       "    </tr>\n",
       "    <tr>\n",
       "      <th>1</th>\n",
       "      <td>Problem solver. Internet scholar. Travel geek. Unapologetic music evangelist.</td>\n",
       "      <td>9</td>\n",
       "      <td>6</td>\n",
       "      <td>0</td>\n",
       "      <td>4</td>\n",
       "      <td>8</td>\n",
       "      <td>4</td>\n",
       "      <td>7</td>\n",
       "      <td>0</td>\n",
       "    </tr>\n",
       "    <tr>\n",
       "      <th>2</th>\n",
       "      <td>Freelance gamer. Zombie trailblazer. Alcoholaholic. Hardcore social media guru.</td>\n",
       "      <td>6</td>\n",
       "      <td>3</td>\n",
       "      <td>2</td>\n",
       "      <td>6</td>\n",
       "      <td>6</td>\n",
       "      <td>1</td>\n",
       "      <td>3</td>\n",
       "      <td>1</td>\n",
       "    </tr>\n",
       "    <tr>\n",
       "      <th>3</th>\n",
       "      <td>Social media expert. Gamer. Unapologetic food fanatic. Freelance internet guru. Subtly charming explorer.</td>\n",
       "      <td>7</td>\n",
       "      <td>9</td>\n",
       "      <td>1</td>\n",
       "      <td>6</td>\n",
       "      <td>0</td>\n",
       "      <td>5</td>\n",
       "      <td>4</td>\n",
       "      <td>1</td>\n",
       "    </tr>\n",
       "  </tbody>\n",
       "</table>\n",
       "</div>"
      ],
      "text/plain": [
       "                                                                                                                                  Bios  \\\n",
       "0  Wannabe beer guru. Professional food scholar. Thinker. Bacon expert. Travel maven. Friendly social media aficionado. Internet buff.   \n",
       "1                                                        Problem solver. Internet scholar. Travel geek. Unapologetic music evangelist.   \n",
       "2                                                      Freelance gamer. Zombie trailblazer. Alcoholaholic. Hardcore social media guru.   \n",
       "3                            Social media expert. Gamer. Unapologetic food fanatic. Freelance internet guru. Subtly charming explorer.   \n",
       "\n",
       "   TV  Movies  Music  Sports  Books  Religion  Travel  gender  \n",
       "0   6       0      0       9      5         1       2       0  \n",
       "1   9       6      0       4      8         4       7       0  \n",
       "2   6       3      2       6      6         1       3       1  \n",
       "3   7       9      1       6      0         5       4       1  "
      ]
     },
     "execution_count": 6,
     "metadata": {},
     "output_type": "execute_result"
    }
   ],
   "source": [
    "final_data = final_data[:4]\n",
    "final_data['gender'] = [0 if x<2 else 1 for x in range(len(final_data))]\n",
    "final_data.head()"
   ]
  },
  {
   "cell_type": "markdown",
   "metadata": {},
   "source": [
    "#### 0 represent male and 1 female"
   ]
  },
  {
   "cell_type": "code",
   "execution_count": 7,
   "metadata": {},
   "outputs": [
    {
     "data": {
      "text/plain": [
       "1    2\n",
       "0    2\n",
       "Name: gender, dtype: int64"
      ]
     },
     "execution_count": 7,
     "metadata": {},
     "output_type": "execute_result"
    }
   ],
   "source": [
    "final_data['gender'].value_counts()"
   ]
  },
  {
   "cell_type": "markdown",
   "metadata": {},
   "source": [
    "#### Tokenizing Function\n",
    "\n",
    "Cleaning the data using tokenization, stopword removal, lemmatization, etc)"
   ]
  },
  {
   "cell_type": "code",
   "execution_count": 8,
   "metadata": {},
   "outputs": [],
   "source": [
    "def tokenize(text):\n",
    "\n",
    "    # Creating a library of stopwords\n",
    "    stops = stopwords.words('english')\n",
    "    \n",
    "    # Lowercasing the words\n",
    "    text = text.lower()\n",
    "    \n",
    "    # Removing the punctuations (periods)\n",
    "    text = text.replace('.', '')\n",
    "    \n",
    "    # Splitting on spaces between words\n",
    "    text = text.split(' ')\n",
    "    \n",
    "    # Lemmatizing the words and removing stop words\n",
    "    text = [lemmatizer.lemmatize(i) for i in text if i not in stops]\n",
    "    \n",
    "    return text\n"
   ]
  },
  {
   "cell_type": "code",
   "execution_count": 9,
   "metadata": {},
   "outputs": [],
   "source": [
    "scaler = MinMaxScaler()\n",
    "# Scaling the categories then replacing the old values\n",
    "df = final_data[['Bios']].join(pd.DataFrame(scaler.fit_transform(final_data.drop('Bios',axis=1)), \n",
    "                                          columns=final_data.columns[1:], index=final_data.index))"
   ]
  },
  {
   "cell_type": "code",
   "execution_count": 10,
   "metadata": {},
   "outputs": [
    {
     "data": {
      "text/html": [
       "<div>\n",
       "<style scoped>\n",
       "    .dataframe tbody tr th:only-of-type {\n",
       "        vertical-align: middle;\n",
       "    }\n",
       "\n",
       "    .dataframe tbody tr th {\n",
       "        vertical-align: top;\n",
       "    }\n",
       "\n",
       "    .dataframe thead th {\n",
       "        text-align: right;\n",
       "    }\n",
       "</style>\n",
       "<table border=\"1\" class=\"dataframe\">\n",
       "  <thead>\n",
       "    <tr style=\"text-align: right;\">\n",
       "      <th></th>\n",
       "      <th>Bios</th>\n",
       "      <th>TV</th>\n",
       "      <th>Movies</th>\n",
       "      <th>Music</th>\n",
       "      <th>Sports</th>\n",
       "      <th>Books</th>\n",
       "      <th>Religion</th>\n",
       "      <th>Travel</th>\n",
       "      <th>gender</th>\n",
       "    </tr>\n",
       "  </thead>\n",
       "  <tbody>\n",
       "    <tr>\n",
       "      <th>0</th>\n",
       "      <td>Wannabe beer guru. Professional food scholar. Thinker. Bacon expert. Travel maven. Friendly social media aficionado. Internet buff.</td>\n",
       "      <td>0.000000</td>\n",
       "      <td>0.000000</td>\n",
       "      <td>0.0</td>\n",
       "      <td>1.0</td>\n",
       "      <td>0.625</td>\n",
       "      <td>0.00</td>\n",
       "      <td>0.0</td>\n",
       "      <td>0.0</td>\n",
       "    </tr>\n",
       "    <tr>\n",
       "      <th>1</th>\n",
       "      <td>Problem solver. Internet scholar. Travel geek. Unapologetic music evangelist.</td>\n",
       "      <td>1.000000</td>\n",
       "      <td>0.666667</td>\n",
       "      <td>0.0</td>\n",
       "      <td>0.0</td>\n",
       "      <td>1.000</td>\n",
       "      <td>0.75</td>\n",
       "      <td>1.0</td>\n",
       "      <td>0.0</td>\n",
       "    </tr>\n",
       "    <tr>\n",
       "      <th>2</th>\n",
       "      <td>Freelance gamer. Zombie trailblazer. Alcoholaholic. Hardcore social media guru.</td>\n",
       "      <td>0.000000</td>\n",
       "      <td>0.333333</td>\n",
       "      <td>1.0</td>\n",
       "      <td>0.4</td>\n",
       "      <td>0.750</td>\n",
       "      <td>0.00</td>\n",
       "      <td>0.2</td>\n",
       "      <td>1.0</td>\n",
       "    </tr>\n",
       "    <tr>\n",
       "      <th>3</th>\n",
       "      <td>Social media expert. Gamer. Unapologetic food fanatic. Freelance internet guru. Subtly charming explorer.</td>\n",
       "      <td>0.333333</td>\n",
       "      <td>1.000000</td>\n",
       "      <td>0.5</td>\n",
       "      <td>0.4</td>\n",
       "      <td>0.000</td>\n",
       "      <td>1.00</td>\n",
       "      <td>0.4</td>\n",
       "      <td>1.0</td>\n",
       "    </tr>\n",
       "  </tbody>\n",
       "</table>\n",
       "</div>"
      ],
      "text/plain": [
       "                                                                                                                                  Bios  \\\n",
       "0  Wannabe beer guru. Professional food scholar. Thinker. Bacon expert. Travel maven. Friendly social media aficionado. Internet buff.   \n",
       "1                                                        Problem solver. Internet scholar. Travel geek. Unapologetic music evangelist.   \n",
       "2                                                      Freelance gamer. Zombie trailblazer. Alcoholaholic. Hardcore social media guru.   \n",
       "3                            Social media expert. Gamer. Unapologetic food fanatic. Freelance internet guru. Subtly charming explorer.   \n",
       "\n",
       "         TV    Movies  Music  Sports  Books  Religion  Travel  gender  \n",
       "0  0.000000  0.000000    0.0     1.0  0.625      0.00     0.0     0.0  \n",
       "1  1.000000  0.666667    0.0     0.0  1.000      0.75     1.0     0.0  \n",
       "2  0.000000  0.333333    1.0     0.4  0.750      0.00     0.2     1.0  \n",
       "3  0.333333  1.000000    0.5     0.4  0.000      1.00     0.4     1.0  "
      ]
     },
     "execution_count": 10,
     "metadata": {},
     "output_type": "execute_result"
    }
   ],
   "source": [
    "df.head()"
   ]
  },
  {
   "cell_type": "code",
   "execution_count": 11,
   "metadata": {},
   "outputs": [],
   "source": [
    "# Instantiating the Vectorizer\n",
    "vectorizer = CountVectorizer()\n",
    "#vectorizer = TfidfVectorizer()\n",
    "\n",
    "# Fitting the vectorizer to the Bios\n",
    "x = vectorizer.fit_transform(df['Bios'])\n",
    "\n",
    "# Creating a new DF that contains the vectorized words\n",
    "df_wrds = pd.DataFrame(x.toarray(), columns=vectorizer.get_feature_names())\n",
    "\n",
    "# Concating the words DF with the original DF\n",
    "new_data = pd.concat([df, df_wrds], axis=1)\n",
    "\n",
    "# Dropping the Bios because it is no longer needed in place of vectorization\n",
    "new_data.drop('Bios', axis=1, inplace=True)"
   ]
  },
  {
   "cell_type": "code",
   "execution_count": 12,
   "metadata": {},
   "outputs": [
    {
     "data": {
      "text/html": [
       "<div>\n",
       "<style scoped>\n",
       "    .dataframe tbody tr th:only-of-type {\n",
       "        vertical-align: middle;\n",
       "    }\n",
       "\n",
       "    .dataframe tbody tr th {\n",
       "        vertical-align: top;\n",
       "    }\n",
       "\n",
       "    .dataframe thead th {\n",
       "        text-align: right;\n",
       "    }\n",
       "</style>\n",
       "<table border=\"1\" class=\"dataframe\">\n",
       "  <thead>\n",
       "    <tr style=\"text-align: right;\">\n",
       "      <th></th>\n",
       "      <th>TV</th>\n",
       "      <th>Movies</th>\n",
       "      <th>Music</th>\n",
       "      <th>Sports</th>\n",
       "      <th>Books</th>\n",
       "      <th>Religion</th>\n",
       "      <th>Travel</th>\n",
       "      <th>gender</th>\n",
       "      <th>aficionado</th>\n",
       "      <th>alcoholaholic</th>\n",
       "      <th>...</th>\n",
       "      <th>scholar</th>\n",
       "      <th>social</th>\n",
       "      <th>solver</th>\n",
       "      <th>subtly</th>\n",
       "      <th>thinker</th>\n",
       "      <th>trailblazer</th>\n",
       "      <th>travel</th>\n",
       "      <th>unapologetic</th>\n",
       "      <th>wannabe</th>\n",
       "      <th>zombie</th>\n",
       "    </tr>\n",
       "  </thead>\n",
       "  <tbody>\n",
       "    <tr>\n",
       "      <th>0</th>\n",
       "      <td>0.000000</td>\n",
       "      <td>0.000000</td>\n",
       "      <td>0.0</td>\n",
       "      <td>1.0</td>\n",
       "      <td>0.625</td>\n",
       "      <td>0.00</td>\n",
       "      <td>0.0</td>\n",
       "      <td>0.0</td>\n",
       "      <td>1</td>\n",
       "      <td>0</td>\n",
       "      <td>...</td>\n",
       "      <td>1</td>\n",
       "      <td>1</td>\n",
       "      <td>0</td>\n",
       "      <td>0</td>\n",
       "      <td>1</td>\n",
       "      <td>0</td>\n",
       "      <td>1</td>\n",
       "      <td>0</td>\n",
       "      <td>1</td>\n",
       "      <td>0</td>\n",
       "    </tr>\n",
       "    <tr>\n",
       "      <th>1</th>\n",
       "      <td>1.000000</td>\n",
       "      <td>0.666667</td>\n",
       "      <td>0.0</td>\n",
       "      <td>0.0</td>\n",
       "      <td>1.000</td>\n",
       "      <td>0.75</td>\n",
       "      <td>1.0</td>\n",
       "      <td>0.0</td>\n",
       "      <td>0</td>\n",
       "      <td>0</td>\n",
       "      <td>...</td>\n",
       "      <td>1</td>\n",
       "      <td>0</td>\n",
       "      <td>1</td>\n",
       "      <td>0</td>\n",
       "      <td>0</td>\n",
       "      <td>0</td>\n",
       "      <td>1</td>\n",
       "      <td>1</td>\n",
       "      <td>0</td>\n",
       "      <td>0</td>\n",
       "    </tr>\n",
       "    <tr>\n",
       "      <th>2</th>\n",
       "      <td>0.000000</td>\n",
       "      <td>0.333333</td>\n",
       "      <td>1.0</td>\n",
       "      <td>0.4</td>\n",
       "      <td>0.750</td>\n",
       "      <td>0.00</td>\n",
       "      <td>0.2</td>\n",
       "      <td>1.0</td>\n",
       "      <td>0</td>\n",
       "      <td>1</td>\n",
       "      <td>...</td>\n",
       "      <td>0</td>\n",
       "      <td>1</td>\n",
       "      <td>0</td>\n",
       "      <td>0</td>\n",
       "      <td>0</td>\n",
       "      <td>1</td>\n",
       "      <td>0</td>\n",
       "      <td>0</td>\n",
       "      <td>0</td>\n",
       "      <td>1</td>\n",
       "    </tr>\n",
       "    <tr>\n",
       "      <th>3</th>\n",
       "      <td>0.333333</td>\n",
       "      <td>1.000000</td>\n",
       "      <td>0.5</td>\n",
       "      <td>0.4</td>\n",
       "      <td>0.000</td>\n",
       "      <td>1.00</td>\n",
       "      <td>0.4</td>\n",
       "      <td>1.0</td>\n",
       "      <td>0</td>\n",
       "      <td>0</td>\n",
       "      <td>...</td>\n",
       "      <td>0</td>\n",
       "      <td>1</td>\n",
       "      <td>0</td>\n",
       "      <td>1</td>\n",
       "      <td>0</td>\n",
       "      <td>0</td>\n",
       "      <td>0</td>\n",
       "      <td>1</td>\n",
       "      <td>0</td>\n",
       "      <td>0</td>\n",
       "    </tr>\n",
       "  </tbody>\n",
       "</table>\n",
       "<p>4 rows × 41 columns</p>\n",
       "</div>"
      ],
      "text/plain": [
       "         TV    Movies  Music  Sports  Books  Religion  Travel  gender  \\\n",
       "0  0.000000  0.000000    0.0     1.0  0.625      0.00     0.0     0.0   \n",
       "1  1.000000  0.666667    0.0     0.0  1.000      0.75     1.0     0.0   \n",
       "2  0.000000  0.333333    1.0     0.4  0.750      0.00     0.2     1.0   \n",
       "3  0.333333  1.000000    0.5     0.4  0.000      1.00     0.4     1.0   \n",
       "\n",
       "   aficionado  alcoholaholic  ...  scholar  social  solver  subtly  thinker  \\\n",
       "0           1              0  ...        1       1       0       0        1   \n",
       "1           0              0  ...        1       0       1       0        0   \n",
       "2           0              1  ...        0       1       0       0        0   \n",
       "3           0              0  ...        0       1       0       1        0   \n",
       "\n",
       "   trailblazer  travel  unapologetic  wannabe  zombie  \n",
       "0            0       1             0        1       0  \n",
       "1            0       1             1        0       0  \n",
       "2            1       0             0        0       1  \n",
       "3            0       0             1        0       0  \n",
       "\n",
       "[4 rows x 41 columns]"
      ]
     },
     "execution_count": 12,
     "metadata": {},
     "output_type": "execute_result"
    }
   ],
   "source": [
    "new_data.head()"
   ]
  },
  {
   "cell_type": "code",
   "execution_count": 13,
   "metadata": {},
   "outputs": [
    {
     "data": {
      "text/plain": [
       "(4, 41)"
      ]
     },
     "execution_count": 13,
     "metadata": {},
     "output_type": "execute_result"
    }
   ],
   "source": [
    "new_data.shape"
   ]
  },
  {
   "cell_type": "markdown",
   "metadata": {},
   "source": [
    "#### Correlation Plot\n",
    "\n",
    "The correlation plot is created to understand if there is any relation between two features which would end up impacting the prediction of the matches for the dating profile."
   ]
  },
  {
   "cell_type": "code",
   "execution_count": 14,
   "metadata": {},
   "outputs": [
    {
     "data": {
      "text/plain": [
       "<matplotlib.axes._subplots.AxesSubplot at 0x7fcbb2647b90>"
      ]
     },
     "execution_count": 14,
     "metadata": {},
     "output_type": "execute_result"
    },
    {
     "data": {
      "image/png": "[encoded data removed]",
      "text/plain": [
       "<Figure size 2160x1080 with 2 Axes>"
      ]
     },
     "metadata": {
      "needs_background": "light"
     },
     "output_type": "display_data"
    }
   ],
   "source": [
    "corrmat = new_data.corr()\n",
    "\n",
    "plt.subplots(figsize=(30, 15))\n",
    "sns.heatmap(corrmat, vmax=.9, square=True)"
   ]
  },
  {
   "cell_type": "code",
   "execution_count": 15,
   "metadata": {},
   "outputs": [
    {
     "name": "stdout",
     "output_type": "stream",
     "text": [
      "Top similar users to User # 1 \n",
      "\n",
      "          1\n",
      "1  1.000000\n",
      "3 -0.183004\n",
      "0 -0.267004\n",
      "2 -0.359837\n",
      "\n",
      "The most similar user to User # 1 is User # 3\n"
     ]
    }
   ],
   "source": [
    "# Finding Correlations among the users\n",
    "corr_group = new_data.T.corr()\n",
    "\n",
    "# Finding the Similar Users\n",
    "# Randomly selecting a user\n",
    "random_user = random.choice(corr_group.index)\n",
    "\n",
    "print(\"Top similar users to User #\", random_user, '\\n')\n",
    "\n",
    "# Creating a df with the most similar users to the selected user\n",
    "top_sim = corr_group[[random_user]].sort_values(by=[random_user],axis=0, ascending=False)\n",
    "\n",
    "# Printing out the results\n",
    "print(top_sim)\n",
    "\n",
    "print(\"\\nThe most similar user to User #\", random_user, \"is User #\", top_sim.index[1])"
   ]
  },
  {
   "cell_type": "markdown",
   "metadata": {},
   "source": [
    "#### Q. How ML model can be integrated with the backend of a Flutter App?\n",
    "\n",
    "The ML model can be intergrated with the backend of a Flutter App by:\n",
    "\n",
    "1) Firebase MLKit - Allows developers to import Google's machine learning expertise from the firebase console.\n",
    "\n",
    "2) Models as APIs - Developers wrap the model in API services and host it using web-based servers.\n",
    "\n",
    "3) On-Device Model - The primary way to use this model is to firstly create them as TensorFlow models. To export them as .tflite files, you can use the ML Kit plugin in your flutter app. Before shipping the file, you need to import the stored .tfilte file from the project repository and make it run for the interface.\n",
    "\n",
    "The last method is the ideal choice of integration and need not provide for regular updates. "
   ]
  }
 ],
 "metadata": {
  "kernelspec": {
   "display_name": "Python 3",
   "language": "python",
   "name": "python3"
  },
  "language_info": {
   "codemirror_mode": {
    "name": "ipython",
    "version": 3
   },
   "file_extension": ".py",
   "mimetype": "text/x-python",
   "name": "python",
   "nbconvert_exporter": "python",
   "pygments_lexer": "ipython3",
   "version": "3.7.4"
  }
 },
 "nbformat": 4,
 "nbformat_minor": 2
}
